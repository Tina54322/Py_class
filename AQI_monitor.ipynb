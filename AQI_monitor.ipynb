{
 "cells": [
  {
   "cell_type": "markdown",
   "id": "77edbd0c",
   "metadata": {},
   "source": [
    "- AQI空氣品質監測練習"
   ]
  },
  {
   "cell_type": "code",
   "execution_count": null,
   "id": "dd6afa38",
   "metadata": {},
   "outputs": [
    {
     "name": "stdout",
     "output_type": "stream",
     "text": [
      "       sitename county aqi pollutant status  so2    co  o3 o3_8hr pm10  ...  \\\n",
      "0            基隆    基隆市  45               良好    1  0.23  55     49   17  ...   \n",
      "1            汐止    新北市  52     細懸浮微粒     普通  1.7  0.27  36     39   30  ...   \n",
      "2            新店    新北市  39               良好  0.5  0.15  42     42   16  ...   \n",
      "3            土城    新北市  43               良好  0.1  0.19  35     37   26  ...   \n",
      "4            板橋    新北市  35               良好  1.2  0.21  43          19  ...   \n",
      "..          ...    ...  ..       ...    ...  ...   ...  ..    ...  ...  ...   \n",
      "81       屏東（琉球）    屏東縣  32               良好  0.3  0.12  21     21   21  ...   \n",
      "82  台中市（和平區消防隊）    臺中市  27               良好  0.2  0.01  20     20   29  ...   \n",
      "83       新北(樹林)    新北市  39               良好  0.5  0.18  41     42   13  ...   \n",
      "84       臺南（南化）    臺南市  19               良好  0.5  0.13  15     20    4  ...   \n",
      "85       屏東(枋山)    屏東縣  71      懸浮微粒     普通                    29   62  ...   \n",
      "\n",
      "   wind_speed wind_direc          publishtime co_8hr pm2.5_avg pm10_avg  \\\n",
      "0         1.4         91  2025/06/02 17:00:00    0.2       9.6       19   \n",
      "1         1.5         51  2025/06/02 17:00:00    0.2      12.9       22   \n",
      "2         2.5        320  2025/06/02 17:00:00    0.1       8.1       21   \n",
      "3         2.2        230  2025/06/02 17:00:00    0.1       9.5       26   \n",
      "4         3.6        260  2025/06/02 17:00:00    0.1       7.7       21   \n",
      "..        ...        ...                  ...    ...       ...      ...   \n",
      "81          1        336  2025/06/02 17:00:00    0.1       7.9       19   \n",
      "82        0.2        100  2025/06/02 17:00:00      0       3.1       16   \n",
      "83        0.8          0  2025/06/02 17:00:00    0.1       4.5       17   \n",
      "84        0.1        172  2025/06/02 17:00:00    0.1                  3   \n",
      "85        4.2        305  2025/06/02 17:00:00      0       6.5       49   \n",
      "\n",
      "   so2_avg     longitude     latitude siteid  \n",
      "0        1    121.760056    25.129167      1  \n",
      "1        1     121.64081     25.06624      2  \n",
      "2        0    121.537778    24.977222      4  \n",
      "3        0    121.451861    24.982528      5  \n",
      "4        1    121.458667    25.012972      6  \n",
      "..     ...           ...          ...    ...  \n",
      "81       0     120.37722     22.35222    204  \n",
      "82       0    120.883858    24.174592    310  \n",
      "83       0  121.38352778  24.94902778    311  \n",
      "84          120.44583156  23.04562013    312  \n",
      "85       0    120.651472    22.260899    313  \n",
      "\n",
      "[86 rows x 24 columns]\n"
     ]
    }
   ],
   "source": [
    "import requests\n",
    "import pandas as pd\n",
    "from datetime import datetime\n",
    "import os\n",
    "\n",
    "# 設定想追蹤的縣市清單\n",
    "TARGET_COUNTIES = [\"桃園市\", \"台南市\", \"台中市\", \"高雄市\"]\n",
    "SAVE_PATH = \"pm25_trend.csv\"\n",
    "\n",
    "# 擷取資料\n",
    "url = \"https://data.moenv.gov.tw/api/v2/aqx_p_432?api_key=540e2ca4-41e1-4186-8497-fdd67024ac44&limit=1000&sort=ImportDate desc&format=JSON\"\n",
    "response = requests.get(url)\n",
    "\n",
    "if response.status_code == 200:\n",
    "    records = response.json().get(\"records\", [])\n",
    "    df = pd.DataFrame(records)\n",
    "\n",
    "    # 篩選指定縣市\n",
    "    df_filtered = df[df[\"county\"].isin(TARGET_COUNTIES)].copy()\n",
    "    \n",
    "    # 加入當下時間戳\n",
    "    timestamp = datetime.now().strftime(\"%Y-%m-%d %H:%M:%S\")\n",
    "    df_filtered[\"timestamp\"] = timestamp\n"
   ]
  }
 ],
 "metadata": {
  "kernelspec": {
   "display_name": "Python 3",
   "language": "python",
   "name": "python3"
  },
  "language_info": {
   "codemirror_mode": {
    "name": "ipython",
    "version": 3
   },
   "file_extension": ".py",
   "mimetype": "text/x-python",
   "name": "python",
   "nbconvert_exporter": "python",
   "pygments_lexer": "ipython3",
   "version": "3.10.17"
  }
 },
 "nbformat": 4,
 "nbformat_minor": 5
}
